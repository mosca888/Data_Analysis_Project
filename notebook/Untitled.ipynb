{
 "cells": [
  {
   "cell_type": "code",
   "execution_count": 2,
   "id": "0f6a187d-d60a-47f3-b5a1-a9799e8f60d1",
   "metadata": {},
   "outputs": [
    {
     "name": "stdout",
     "output_type": "stream",
     "text": [
      "<class 'pandas.core.frame.DataFrame'>\n",
      "RangeIndex: 8807 entries, 0 to 8806\n",
      "Data columns (total 12 columns):\n",
      " #   Column        Non-Null Count  Dtype \n",
      "---  ------        --------------  ----- \n",
      " 0   show_id       8807 non-null   object\n",
      " 1   type          8807 non-null   object\n",
      " 2   title         8807 non-null   object\n",
      " 3   director      6173 non-null   object\n",
      " 4   cast          7982 non-null   object\n",
      " 5   country       7976 non-null   object\n",
      " 6   date_added    8797 non-null   object\n",
      " 7   release_year  8807 non-null   int64 \n",
      " 8   rating        8803 non-null   object\n",
      " 9   duration      8804 non-null   object\n",
      " 10  listed_in     8807 non-null   object\n",
      " 11  description   8807 non-null   object\n",
      "dtypes: int64(1), object(11)\n",
      "memory usage: 825.8+ KB\n"
     ]
    }
   ],
   "source": [
    "import pandas as pd\n",
    "import numpy as np\n",
    "import matplotlib.pyplot as plt\n",
    "df = pd.read_csv(r\"C:\\gio\\data-analysis-project\\data\\netflix_titles.csv\")\n",
    "df.info()\n",
    "#df.describe()"
   ]
  },
  {
   "cell_type": "code",
   "execution_count": 25,
   "id": "fd47a2c7-bfd9-4c0e-9421-53f530c37914",
   "metadata": {},
   "outputs": [
    {
     "data": {
      "text/plain": [
       "(  show_id     type                  title         director  \\\n",
       " 0      s1    Movie   Dick Johnson Is Dead  Kirsten Johnson   \n",
       " 1      s2  TV Show          Blood & Water          Unknown   \n",
       " 2      s3  TV Show              Ganglands  Julien Leclercq   \n",
       " 3      s4  TV Show  Jailbirds New Orleans          Unknown   \n",
       " 4      s5  TV Show           Kota Factory          Unknown   \n",
       " \n",
       "                                                 cast        country  \\\n",
       " 0                                            Unknown  United States   \n",
       " 1  Ama Qamata, Khosi Ngema, Gail Mabalane, Thaban...   South Africa   \n",
       " 2  Sami Bouajila, Tracy Gotoas, Samuel Jouy, Nabi...        Unknown   \n",
       " 3                                            Unknown        Unknown   \n",
       " 4  Mayur More, Jitendra Kumar, Ranjan Raj, Alam K...          India   \n",
       " \n",
       "            date_added  release_year rating   duration  \\\n",
       " 0  September 25, 2021          2020  PG-13     90 min   \n",
       " 1  September 24, 2021          2021  TV-MA  2 Seasons   \n",
       " 2  September 24, 2021          2021  TV-MA   1 Season   \n",
       " 3  September 24, 2021          2021  TV-MA   1 Season   \n",
       " 4  September 24, 2021          2021  TV-MA  2 Seasons   \n",
       " \n",
       "                                            listed_in  \\\n",
       " 0                                      Documentaries   \n",
       " 1    International TV Shows, TV Dramas, TV Mysteries   \n",
       " 2  Crime TV Shows, International TV Shows, TV Act...   \n",
       " 3                             Docuseries, Reality TV   \n",
       " 4  International TV Shows, Romantic TV Shows, TV ...   \n",
       " \n",
       "                                          description  \n",
       " 0  As her father nears the end of his life, filmm...  \n",
       " 1  After crossing paths at a party, a Cape Town t...  \n",
       " 2  To protect his family from a powerful drug lor...  \n",
       " 3  Feuds, flirtations and toilet talk go down amo...  \n",
       " 4  In a city of coaching centers known to train I...  ,\n",
       " (8807, 12),\n",
       " Index(['show_id', 'type', 'title', 'director', 'cast', 'country', 'date_added',\n",
       "        'release_year', 'rating', 'duration', 'listed_in', 'description'],\n",
       "       dtype='object'))"
      ]
     },
     "execution_count": 25,
     "metadata": {},
     "output_type": "execute_result"
    }
   ],
   "source": [
    "(df.head(),df.shape,df.columns)"
   ]
  },
  {
   "cell_type": "code",
   "execution_count": 26,
   "id": "b44b8cf5-d8a2-4346-8a99-8fbc0159e7a4",
   "metadata": {},
   "outputs": [],
   "source": [
    "df['director'] = df['director'].fillna('Unknown')\n",
    "df['cast'] = df['cast'].fillna('Unknown')\n",
    "df['country'] = df['country'].fillna('Unknown')\n",
    "df['date_added'] = df['date_added'].fillna('Unknown')\n",
    "df['rating'] = df['rating'].fillna('Unknown')\n",
    "df['duration'] = df['duration'].fillna('Unknown')\n"
   ]
  },
  {
   "cell_type": "code",
   "execution_count": 21,
   "id": "7185bdb2-80d1-4cb4-a12c-aa5c7399e475",
   "metadata": {},
   "outputs": [
    {
     "data": {
      "text/plain": [
       "show_id         0\n",
       "type            0\n",
       "title           0\n",
       "director        0\n",
       "cast            0\n",
       "country         0\n",
       "date_added      0\n",
       "release_year    0\n",
       "rating          0\n",
       "duration        0\n",
       "listed_in       0\n",
       "description     0\n",
       "dtype: int64"
      ]
     },
     "execution_count": 21,
     "metadata": {},
     "output_type": "execute_result"
    }
   ],
   "source": [
    "df.isnull().sum()"
   ]
  },
  {
   "cell_type": "code",
   "execution_count": 23,
   "id": "d5e27ef0-16c1-4a28-9339-152a5a5bc2d1",
   "metadata": {},
   "outputs": [
    {
     "data": {
      "text/plain": [
       "type\n",
       "Movie      6131\n",
       "TV Show    2676\n",
       "Name: count, dtype: int64"
      ]
     },
     "execution_count": 23,
     "metadata": {},
     "output_type": "execute_result"
    }
   ],
   "source": [
    "df['type'].value_counts()\n"
   ]
  },
  {
   "cell_type": "code",
   "execution_count": 30,
   "id": "a8fd4a2d-5b7f-40f7-95e4-f0434bd39d44",
   "metadata": {},
   "outputs": [
    {
     "data": {
      "text/plain": [
       "country\n",
       "United States     2818\n",
       "India              972\n",
       "Unknown            831\n",
       "United Kingdom     419\n",
       "Japan              245\n",
       "Name: count, dtype: int64"
      ]
     },
     "execution_count": 30,
     "metadata": {},
     "output_type": "execute_result"
    }
   ],
   "source": [
    "df['country'].value_counts().head()"
   ]
  },
  {
   "cell_type": "code",
   "execution_count": 32,
   "id": "a6210ad0-4867-4368-bc1c-488f38f0ab30",
   "metadata": {},
   "outputs": [
    {
     "data": {
      "image/png": "[encoded data removed]",
      "text/plain": [
       "<Figure size 640x480 with 1 Axes>"
      ]
     },
     "metadata": {},
     "output_type": "display_data"
    }
   ],
   "source": [
    "# Count how many of each type\n",
    "type_counts = df['type'].value_counts()\n",
    "\n",
    "# Create bar chart\n",
    "plt.bar(type_counts.index, type_counts.values)\n",
    "\n",
    "# Add title and labels\n",
    "plt.title('Movies vs TV Shows on Netflix')\n",
    "plt.xlabel('Type')\n",
    "plt.ylabel('Count')\n",
    "\n",
    "plt.show()\n"
   ]
  },
  {
   "cell_type": "code",
   "execution_count": null,
   "id": "2b651ec6-b7ad-47cc-8a4a-7d07434889ae",
   "metadata": {},
   "outputs": [],
   "source": []
  }
 ],
 "metadata": {
  "kernelspec": {
   "display_name": "Python 3 (ipykernel)",
   "language": "python",
   "name": "python3"
  },
  "language_info": {
   "codemirror_mode": {
    "name": "ipython",
    "version": 3
   },
   "file_extension": ".py",
   "mimetype": "text/x-python",
   "name": "python",
   "nbconvert_exporter": "python",
   "pygments_lexer": "ipython3",
   "version": "3.11.9"
  }
 },
 "nbformat": 4,
 "nbformat_minor": 5
}
